{
 "cells": [
  {
   "cell_type": "code",
   "execution_count": 1,
   "metadata": {
    "_cell_guid": "b1076dfc-b9ad-4769-8c92-a6c4dae69d19",
    "_uuid": "8f2839f25d086af736a60e9eeb907d3b93b6e0e5"
   },
   "outputs": [],
   "source": [
    "import os\n",
    "import sys\n",
    "import re\n",
    "import gc\n",
    "import time\n",
    "import datetime\n",
    "import pickle\n",
    "import numpy as np\n",
    "import pandas as pd\n",
    "\n",
    "from itertools import product\n",
    "import seaborn as sns\n",
    "import matplotlib.pyplot as plt\n",
    "\n",
    "%matplotlib inline\n",
    "sns.set(style=\"darkgrid\")\n",
    "pd.set_option('display.float_format', lambda x: '%.2f' % x)"
   ]
  },
  {
   "cell_type": "markdown",
   "metadata": {},
   "source": [
    "### Load Data"
   ]
  },
  {
   "cell_type": "code",
   "execution_count": 3,
   "metadata": {
    "_cell_guid": "79c7e3d0-c299-4dcb-8224-4455121ee9b0",
    "_uuid": "d629ff2d2480ee46fbb7e2d37f6b5fab8052498a"
   },
   "outputs": [],
   "source": [
    "train = pd.read_csv('./sales_train.csv')\n",
    "items = pd.read_csv('./items.csv')\n",
    "# Drop name to save space\n",
    "items = items.drop('item_name', axis=1)\n",
    "# Set index to ID to avoid droping it later\n",
    "test  = pd.read_csv('./test.csv').set_index('ID')\n",
    "# Add date_block_num = 34\n",
    "test['date_block_num'] = 34\n",
    "#shops = pd.read_csv('../input/shops.csv')\n",
    "#categories = pd.read_csv('../input/item_categories.csv')"
   ]
  },
  {
   "cell_type": "markdown",
   "metadata": {},
   "source": [
    "### Compress data size"
   ]
  },
  {
   "cell_type": "code",
   "execution_count": 4,
   "metadata": {},
   "outputs": [
    {
     "name": "stdout",
     "output_type": "stream",
     "text": [
      "train:\n",
      "date: 01.01.2013 ~ 31.12.2014\n",
      "date_block_num: 0 ~ 33\n",
      "shop_id: 0 ~ 59\n",
      "item_id: 0 ~ 22169\n",
      "item_price: -1.0 ~ 307980.0\n",
      "item_cnt_day: -22.0 ~ 2169.0\n",
      "items:\n",
      "item_id: 0 ~ 22169\n",
      "item_category_id: 0 ~ 83\n",
      "test:\n",
      "shop_id: 2 ~ 59\n",
      "item_id: 30 ~ 22167\n",
      "date_block_num: 34 ~ 34\n"
     ]
    }
   ],
   "source": [
    "# Get the ranges of each feature to select the most appropriate data size\n",
    "print ('train:')\n",
    "for f in train.columns.values:\n",
    "    print ('%s: %s ~ %s' %(f, train[f].min(), train[f].max()))\n",
    "print ('items:')\n",
    "for f in items.columns.values:\n",
    "    print ('%s: %s ~ %s' %(f, items[f].min(), items[f].max()))\n",
    "print ('test:')\n",
    "for f in test.columns.values:\n",
    "    print ('%s: %s ~ %s' %(f, test[f].min(), test[f].max()))"
   ]
  },
  {
   "cell_type": "markdown",
   "metadata": {},
   "source": [
    "### Final data ranges for figuring out the best data size per column\n",
    "shop_id: 0 ~ 59<br>\n",
    "item_id: 0 ~ 22169<br>\n",
    "date_block_num: 0 ~ 33<br>\n",
    "item_cnt_day: 0 ~ 1644<br>\n",
    "item_price: 0.0 ~ 50999.0<br>\n",
    "item_category_id: 0 ~ 83<br>\n",
    "<br>\n",
    "item_id_avg_item_price: 0.1 ~ 50999.0<br>\n",
    "item_id_sum_item_cnt_day: 0.0 ~ 12560.0<br>\n",
    "item_id_avg_item_cnt_day: 0 ~ 86<br>\n",
    "shop_id_avg_item_price: 77.0 ~ 1903.0<br>\n",
    "shop_id_sum_item_cnt_day: 0 ~ 16338<br>\n",
    "shop_id_avg_item_cnt_day: 0.0 ~ 4.883<br>\n",
    "item_category_id_avg_item_price: 4.867 ~ 30200.0<br>\n",
    "item_category_id_sum_item_cnt_day: 0 ~ 36311<br>\n",
    "item_category_id_avg_item_cnt_day: 0 ~ 50<br>\n",
    "<br>\n",
    "item_id_sum_item_cnt_day_lag_1: 0.0 ~ 12560.0<br>\n",
    "item_id_avg_item_cnt_day_lag_1: 0.0 ~ 86.0<br>\n",
    "shop_id_avg_item_price_lag_1: 77.0 ~ 1903.0<br>\n",
    "shop_id_sum_item_cnt_day_lag_1: 2.0 ~ 16338.0<br>\n",
    "shop_id_avg_item_cnt_day_lag_1: 1.0 ~ 4.883<br>\n",
    "item_category_id_avg_item_price_lag_1: 4.867 ~ 29220.0<br>\n",
    "item_category_id_sum_item_cnt_day_lag_1: 1.0 ~ 36311.0<br>\n",
    "item_category_id_avg_item_cnt_day_lag_1: 1.0 ~ 22.0<br>\n",
    "item_cnt_day_lag_1: 0.0 ~ 1305.0<br>"
   ]
  },
  {
   "cell_type": "code",
   "execution_count": 5,
   "metadata": {},
   "outputs": [],
   "source": [
    "def compress_columns(df,columns,keyword,search_type,datatype):\n",
    "    if search_type=='in':\n",
    "        valid_features = [x for x in columns if keyword in x]\n",
    "    elif search_type=='start':\n",
    "        valid_features = [x for x in columns if x.startswith(keyword)]\n",
    "    if len(valid_features):\n",
    "        for f in valid_features:\n",
    "            df[f] = df[f].round().astype(datatype)\n",
    "    return df\n",
    "\n",
    "def data_compression(df):\n",
    "    features = df.columns.values\n",
    "    # Original features\n",
    "    if 'date_block_num' in features:\n",
    "        df['date_block_num'] = df['date_block_num'].astype(np.int8)\n",
    "    if 'shop_id' in features:\n",
    "        df['shop_id'] = df['shop_id'].astype(np.int8)\n",
    "    if 'item_category_id' in features:\n",
    "        df['item_category_id'] = df['item_category_id'].astype(np.int8)\n",
    "    if 'item_id' in features:\n",
    "        df['item_id'] = df['item_id'].astype(np.int16)\n",
    "    if 'item_price' in features:\n",
    "        df['item_price'] = df['item_price'].astype(np.float32)\n",
    "    if 'item_id_avg_item_price' in features:\n",
    "        df['item_id_avg_item_price'] = df['item_id_avg_item_price'].astype(np.float32)\n",
    "        \n",
    "    # Mean encoded features & lag features\n",
    "    df = compress_columns(df,features,'item_id_sum_item_cnt_day','in',np.int16)\n",
    "    df = compress_columns(df,features,'item_id_avg_item_cnt_day','in',np.float16)\n",
    "    \n",
    "    df = compress_columns(df,features,'shop_id_avg_item_price','in',np.float16)\n",
    "    df = compress_columns(df,features,'shop_id_sum_item_cnt_day','in',np.int16)\n",
    "    df = compress_columns(df,features,'shop_id_avg_item_cnt_day','in',np.float16)\n",
    "    \n",
    "    df = compress_columns(df,features,'item_category_id_avg_item_price','in',np.float16)\n",
    "    df = compress_columns(df,features,'item_category_id_sum_item_cnt_day','in',np.int32)\n",
    "    df = compress_columns(df,features,'item_category_id_avg_item_cnt_day','in',np.float16)\n",
    "    \n",
    "    df = compress_columns(df,features,'item_cnt_day','start',np.int16)\n",
    "\n",
    "    return df"
   ]
  },
  {
   "cell_type": "code",
   "execution_count": 6,
   "metadata": {},
   "outputs": [],
   "source": [
    "# Compress features according to range\n",
    "train = data_compression(train)\n",
    "items = data_compression(items)\n",
    "test = data_compression(test)"
   ]
  },
  {
   "cell_type": "code",
   "execution_count": 7,
   "metadata": {},
   "outputs": [],
   "source": [
    "# Include Category id\n",
    "train = pd.merge(train,items,on='item_id',how='left')\n",
    "test = pd.merge(test,items, on='item_id', how='left')"
   ]
  },
  {
   "cell_type": "markdown",
   "metadata": {},
   "source": [
    "### Created a dataframe of all Date_block_num, Store and Item combinations:\n",
    "So in case in the months some shops did not have the sale record of some item, it can be set to 0."
   ]
  },
  {
   "cell_type": "code",
   "execution_count": 8,
   "metadata": {},
   "outputs": [
    {
     "data": {
      "text/html": [
       "<div>\n",
       "<style scoped>\n",
       "    .dataframe tbody tr th:only-of-type {\n",
       "        vertical-align: middle;\n",
       "    }\n",
       "\n",
       "    .dataframe tbody tr th {\n",
       "        vertical-align: top;\n",
       "    }\n",
       "\n",
       "    .dataframe thead th {\n",
       "        text-align: right;\n",
       "    }\n",
       "</style>\n",
       "<table border=\"1\" class=\"dataframe\">\n",
       "  <thead>\n",
       "    <tr style=\"text-align: right;\">\n",
       "      <th></th>\n",
       "      <th>shop_id</th>\n",
       "      <th>item_id</th>\n",
       "      <th>date_block_num</th>\n",
       "    </tr>\n",
       "  </thead>\n",
       "  <tbody>\n",
       "    <tr>\n",
       "      <th>0</th>\n",
       "      <td>59</td>\n",
       "      <td>22154</td>\n",
       "      <td>0</td>\n",
       "    </tr>\n",
       "    <tr>\n",
       "      <th>1</th>\n",
       "      <td>59</td>\n",
       "      <td>2552</td>\n",
       "      <td>0</td>\n",
       "    </tr>\n",
       "    <tr>\n",
       "      <th>2</th>\n",
       "      <td>59</td>\n",
       "      <td>2554</td>\n",
       "      <td>0</td>\n",
       "    </tr>\n",
       "    <tr>\n",
       "      <th>3</th>\n",
       "      <td>59</td>\n",
       "      <td>2555</td>\n",
       "      <td>0</td>\n",
       "    </tr>\n",
       "    <tr>\n",
       "      <th>4</th>\n",
       "      <td>59</td>\n",
       "      <td>2564</td>\n",
       "      <td>0</td>\n",
       "    </tr>\n",
       "  </tbody>\n",
       "</table>\n",
       "</div>"
      ],
      "text/plain": [
       "   shop_id  item_id  date_block_num\n",
       "0       59    22154               0\n",
       "1       59     2552               0\n",
       "2       59     2554               0\n",
       "3       59     2555               0\n",
       "4       59     2564               0"
      ]
     },
     "execution_count": 8,
     "metadata": {},
     "output_type": "execute_result"
    }
   ],
   "source": [
    "# Create a grid with columns\n",
    "index_cols = ['shop_id','item_id','date_block_num']\n",
    "\n",
    "# For every month we create a grid for all shops/items pair\n",
    "grid = []\n",
    "for block_num in train['date_block_num'].unique():\n",
    "    cur_shops = train.loc[train['date_block_num']==block_num,'shop_id'].unique()\n",
    "    cur_items = train.loc[train['date_block_num']==block_num,'item_id'].unique()\n",
    "    grid.append(np.array(list(product(*[cur_shops,cur_items,[block_num]])),dtype='int32'))\n",
    "grid = pd.DataFrame(np.vstack(grid),columns=index_cols,dtype=np.int32)\n",
    "grid = data_compression(grid)\n",
    "grid.head()"
   ]
  },
  {
   "cell_type": "code",
   "execution_count": 9,
   "metadata": {},
   "outputs": [
    {
     "name": "stdout",
     "output_type": "stream",
     "text": [
      "<class 'pandas.core.frame.DataFrame'>\n",
      "RangeIndex: 10913850 entries, 0 to 10913849\n",
      "Data columns (total 3 columns):\n",
      "shop_id           int8\n",
      "item_id           int16\n",
      "date_block_num    int8\n",
      "dtypes: int16(1), int8(2)\n",
      "memory usage: 41.6 MB\n"
     ]
    }
   ],
   "source": [
    "grid.info()"
   ]
  },
  {
   "cell_type": "markdown",
   "metadata": {},
   "source": [
    "### Check for outliers"
   ]
  },
  {
   "cell_type": "code",
   "execution_count": 10,
   "metadata": {},
   "outputs": [
    {
     "name": "stdout",
     "output_type": "stream",
     "text": [
      "<class 'pandas.core.frame.DataFrame'>\n",
      "Int64Index: 2935849 entries, 0 to 2935848\n",
      "Data columns (total 7 columns):\n",
      "date                object\n",
      "date_block_num      int8\n",
      "shop_id             int8\n",
      "item_id             int16\n",
      "item_price          float32\n",
      "item_cnt_day        int16\n",
      "item_category_id    int8\n",
      "dtypes: float32(1), int16(2), int8(3), object(1)\n",
      "memory usage: 75.6+ MB\n"
     ]
    }
   ],
   "source": [
    "train.info()"
   ]
  },
  {
   "cell_type": "markdown",
   "metadata": {},
   "source": [
    "Only item_price & item_cnt_day need to be checked, the other columns are meta features."
   ]
  },
  {
   "cell_type": "markdown",
   "metadata": {},
   "source": [
    "**Check outliers removal**"
   ]
  },
  {
   "cell_type": "code",
   "execution_count": 11,
   "metadata": {},
   "outputs": [
    {
     "data": {
      "image/png": "[encoded data removed]",
      "text/plain": [
       "<Figure size 720x288 with 1 Axes>"
      ]
     },
     "metadata": {
      "needs_background": "light"
     },
     "output_type": "display_data"
    },
    {
     "data": {
      "image/png": "[encoded data removed]",
      "text/plain": [
       "<Figure size 720x288 with 1 Axes>"
      ]
     },
     "metadata": {
      "needs_background": "light"
     },
     "output_type": "display_data"
    }
   ],
   "source": [
    "def box_plot(df,f):\n",
    "    plt.figure(figsize=(10,4))\n",
    "    plt.title(f+' distribution')\n",
    "    x_min = int(df[f].min() - (abs(df[f].min())*0.1))\n",
    "    x_max = int(df[f].max() + (abs(df[f].max())*0.1))\n",
    "    if x_min==0:\n",
    "        x_min = -1\n",
    "    if x_max==0:\n",
    "        x_max = 1\n",
    "    plt.xlim(x_min,x_max)\n",
    "    sns.boxplot(x=df[f])\n",
    "\n",
    "# plot distribution of the 2 columns\n",
    "plot_features = ['item_price','item_cnt_day']\n",
    "for f in plot_features:\n",
    "    box_plot(train,f)"
   ]
  },
  {
   "cell_type": "code",
   "execution_count": 12,
   "metadata": {},
   "outputs": [],
   "source": [
    "# Getting rid of the outliers & negative values\n",
    "train = train[(train['item_price']<100000) & (train['item_price']>=0)]\n",
    "train = train[(train['item_cnt_day']<1000) & (train['item_cnt_day']>=0)]"
   ]
  },
  {
   "cell_type": "markdown",
   "metadata": {},
   "source": [
    "**Distribution after outlier removal**"
   ]
  },
  {
   "cell_type": "code",
   "execution_count": 13,
   "metadata": {},
   "outputs": [
    {
     "data": {
      "image/png": "[encoded data removed]",
      "text/plain": [
       "<Figure size 720x288 with 1 Axes>"
      ]
     },
     "metadata": {
      "needs_background": "light"
     },
     "output_type": "display_data"
    },
    {
     "data": {
      "image/png": "[encoded data removed]",
      "text/plain": [
       "<Figure size 720x288 with 1 Axes>"
      ]
     },
     "metadata": {
      "needs_background": "light"
     },
     "output_type": "display_data"
    }
   ],
   "source": [
    "# plot distribution of the 2 columns\n",
    "plot_features = ['item_price','item_cnt_day']\n",
    "for f in plot_features:\n",
    "    box_plot(train,f)"
   ]
  },
  {
   "cell_type": "markdown",
   "metadata": {},
   "source": [
    "### Merge duplicated shops\n",
    "The duplicated shops can be found by inspecting the shop names in shops list."
   ]
  },
  {
   "cell_type": "code",
   "execution_count": 14,
   "metadata": {},
   "outputs": [],
   "source": [
    "# Якутск Орджоникидзе, 56\n",
    "train.loc[train.shop_id == 0, 'shop_id'] = 57\n",
    "test.loc[test.shop_id == 0, 'shop_id'] = 57\n",
    "# Якутск ТЦ \"Центральный\"\n",
    "train.loc[train.shop_id == 1, 'shop_id'] = 58\n",
    "test.loc[test.shop_id == 1, 'shop_id'] = 58\n",
    "# Жуковский ул. Чкалова 39м²\n",
    "train.loc[train.shop_id == 10, 'shop_id'] = 11\n",
    "test.loc[test.shop_id == 10, 'shop_id'] = 11"
   ]
  },
  {
   "cell_type": "markdown",
   "metadata": {},
   "source": [
    "### Create Mean Encodings\n",
    "These below lines add the following 9 features:<br>\n",
    "<br>\n",
    "All of which are per month.<br>\n",
    "‘item_id_avg_item_price’: Mean item price per item_id<br>\n",
    "‘item_id_sum_item_cnt_day’: Total item count per item_id<br>\n",
    "‘item_id_avg_item_cnt_day’: Mean item count per item_id<br>\n",
    "‘shop_id_avg_item_price’: Mean item price per shop<br>\n",
    "‘shop_id_sum_item_cnt_day’: Total item count per shop<br>\n",
    "‘shop_id_avg_item_cnt_day’: Mean item count per shop<br>\n",
    "‘item_category_id_avg_item_price’: Mean item price per category<br>\n",
    "‘item_category_id_sum_item_cnt_day’: Total item count per category<br>\n",
    "‘item_category_id_avg_item_cnt_day’: Mean item count per category<br>"
   ]
  },
  {
   "cell_type": "code",
   "execution_count": 15,
   "metadata": {},
   "outputs": [],
   "source": [
    "# Group items per month, per shop, per item, sum the sales of the item, mean the price\n",
    "# There is a big difference between np.mean and pandas mean\n",
    "train_m = train.groupby(['date_block_num','shop_id','item_id']).agg({'item_cnt_day':'sum','item_price':np.mean}).reset_index()\n",
    "train_m = pd.merge(grid,train_m,on=['date_block_num','shop_id','item_id'],how='left').fillna(0)\n",
    "train_m = pd.merge(train_m,items,on='item_id',how='left')\n",
    "train_m = data_compression(train_m)"
   ]
  },
  {
   "cell_type": "code",
   "execution_count": 16,
   "metadata": {},
   "outputs": [],
   "source": [
    "# Making the mean features\n",
    "for type_id in ['item_id', 'shop_id', 'item_category_id']:\n",
    "    for column_id, aggregator, aggtype in [('item_price',np.mean,'avg'),('item_cnt_day',np.sum,'sum'),('item_cnt_day',np.mean,'avg')]:\n",
    "        mean_df = train.groupby([type_id,'date_block_num']).aggregate(aggregator).reset_index()[[column_id,type_id,'date_block_num']]\n",
    "        mean_df.columns = [type_id+'_'+aggtype+'_'+column_id,type_id,'date_block_num']\n",
    "        train_m = pd.merge(train_m, mean_df, on=['date_block_num',type_id], how='left')\n",
    "        del mean_df\n",
    "        gc.collect()"
   ]
  },
  {
   "cell_type": "code",
   "execution_count": 17,
   "metadata": {},
   "outputs": [
    {
     "data": {
      "text/plain": [
       "14"
      ]
     },
     "execution_count": 17,
     "metadata": {},
     "output_type": "execute_result"
    }
   ],
   "source": [
    "# No more use of train, clear some space\n",
    "del train\n",
    "gc.collect()"
   ]
  },
  {
   "cell_type": "markdown",
   "metadata": {},
   "source": [
    "### Fill NaNs\n",
    "Because NaN cannot be converted to int, therefore NaN has to be filled.<br>\n",
    "Because there are many items which did not sale a single piece per store per month, there are many Nans.<br> \n",
    "The Nans in item count means 0 sold, therefore will be filled with 0.<br>\n",
    "The Nans in item price however means since there is no sale record of the item, the price is missin, therefore will be filled with median / mean price of the item."
   ]
  },
  {
   "cell_type": "code",
   "execution_count": 18,
   "metadata": {},
   "outputs": [
    {
     "name": "stdout",
     "output_type": "stream",
     "text": [
      "<class 'pandas.core.frame.DataFrame'>\n",
      "Int64Index: 10913850 entries, 0 to 10913849\n",
      "Columns: 15 entries, shop_id to item_category_id_avg_item_cnt_day\n",
      "dtypes: float16(5), float32(2), int16(4), int32(1), int8(3)\n",
      "memory usage: 426.7 MB\n"
     ]
    }
   ],
   "source": [
    "for f in train_m.columns:\n",
    "    if 'item_cnt' in f:\n",
    "        train_m[f] = train_m[f].fillna(0)\n",
    "    elif 'item_price' in f:\n",
    "        train_m[f] = train_m[f].fillna(train_m[f].median())\n",
    "\n",
    "# Compress data\n",
    "train_m = data_compression(train_m)\n",
    "train_m.info(verbose=False)"
   ]
  },
  {
   "cell_type": "markdown",
   "metadata": {},
   "source": [
    "### Create Lag Features\n",
    "Next we create lag features with diferent lag periods on the following features:<br>\n",
    "<br>\n",
    "‘item_id_avg_item_price’,<br>\n",
    "‘item_id_sum_item_cnt_day’<br>\n",
    "‘item_id_avg_item_cnt_day’<br>\n",
    "‘shop_id_avg_item_price’<br>\n",
    "‘shop_id_sum_item_cnt_day’<br>\n",
    "‘shop_id_avg_item_cnt_day’<br>\n",
    "‘item_category_id_avg_item_price’<br>\n",
    "‘item_category_id_sum_item_cnt_day’<br>\n",
    "‘item_category_id_avg_item_cnt_day’<br>\n",
    "‘item_cnt_day’"
   ]
  },
  {
   "cell_type": "code",
   "execution_count": 19,
   "metadata": {},
   "outputs": [
    {
     "data": {
      "text/plain": [
       "array(['item_id_avg_item_price', 'item_id_sum_item_cnt_day',\n",
       "       'item_id_avg_item_cnt_day', 'shop_id_avg_item_price',\n",
       "       'shop_id_sum_item_cnt_day', 'shop_id_avg_item_cnt_day',\n",
       "       'item_category_id_avg_item_price',\n",
       "       'item_category_id_sum_item_cnt_day',\n",
       "       'item_category_id_avg_item_cnt_day'], dtype=object)"
      ]
     },
     "execution_count": 19,
     "metadata": {},
     "output_type": "execute_result"
    }
   ],
   "source": [
    "# Check the positions of the base lag features\n",
    "train_m.columns.values[6:]"
   ]
  },
  {
   "cell_type": "code",
   "execution_count": 20,
   "metadata": {},
   "outputs": [
    {
     "name": "stdout",
     "output_type": "stream",
     "text": [
      "lag 1 processed\n",
      "lag 2 processed\n",
      "lag 3 processed\n",
      "lag 6 processed\n"
     ]
    }
   ],
   "source": [
    "# Get all the monthly features, which means the Mean Encoded fatures are all monthly based\n",
    "lag_features = list(train_m.columns[6:])+['item_cnt_day']\n",
    "# The selected months \n",
    "lags = [1,2,3,6]\n",
    "\n",
    "for lag in lags:\n",
    "    train_new_df = train_m.copy()\n",
    "    # Get the current month\n",
    "    train_new_df['date_block_num'] += lag\n",
    "    train_new_df = train_new_df[['date_block_num','shop_id','item_id']+lag_features]\n",
    "    # Name the columns as lag features of the month\n",
    "    train_new_df.columns = ['date_block_num','shop_id','item_id'] + [x+'_lag_'+str(lag) for x in lag_features]\n",
    "    train_m = pd.merge(train_m,train_new_df,on=['date_block_num','shop_id','item_id'],how='left')\n",
    "    del train_new_df\n",
    "    gc.collect()\n",
    "    print ('lag %s processed' %lag)"
   ]
  },
  {
   "cell_type": "code",
   "execution_count": 21,
   "metadata": {},
   "outputs": [
    {
     "name": "stdout",
     "output_type": "stream",
     "text": [
      "<class 'pandas.core.frame.DataFrame'>\n",
      "Int64Index: 10913850 entries, 0 to 10913849\n",
      "Columns: 55 entries, shop_id to item_cnt_day_lag_6\n",
      "dtypes: float16(25), float32(6), int16(16), int32(5), int8(3)\n",
      "memory usage: 1.4 GB\n"
     ]
    }
   ],
   "source": [
    "# Fill NaNs\n",
    "for f in train_m.columns:\n",
    "    if 'item_cnt' in f:\n",
    "        train_m[f] = train_m[f].fillna(0)\n",
    "    elif 'item_price' in f:\n",
    "        train_m[f] = train_m[f].fillna(train_m[f].median())\n",
    "\n",
    "train_m = data_compression(train_m)\n",
    "train_m.info(verbose=False)"
   ]
  },
  {
   "cell_type": "markdown",
   "metadata": {},
   "source": [
    "### Clipping train data to make it similar to test set\n",
    "In the evaluation data description on the competition page, it is said to clip target values to [0,20], because the test set ranges are in between these numbers.<br>\n",
    "In the next few lines I clipped the days to range[0,30].<br>\n",
    "You might ask me why 30. An intuitive answer is if I had clipped to range [0,20] there would be very few tree nodes that could give 20 as an answer.<br>\n",
    "While if I increase it to 40 having a 20 becomes much more easier.<br>\n",
    "Please note that We will clip our predictions in the [0,20] range in the end."
   ]
  },
  {
   "cell_type": "code",
   "execution_count": 22,
   "metadata": {},
   "outputs": [],
   "source": [
    "# Set the maximum clip value\n",
    "max_clip = 30\n",
    "train_m['item_cnt_day'] = train_m['item_cnt_day'].clip(0,max_clip).astype(np.float16)"
   ]
  },
  {
   "cell_type": "markdown",
   "metadata": {},
   "source": [
    "### Prepare test set"
   ]
  },
  {
   "cell_type": "code",
   "execution_count": 23,
   "metadata": {},
   "outputs": [
    {
     "name": "stdout",
     "output_type": "stream",
     "text": [
      "lag 1 processed\n",
      "lag 2 processed\n",
      "lag 3 processed\n",
      "lag 6 processed\n"
     ]
    }
   ],
   "source": [
    "# Add lag variables\n",
    "for lag in lags:\n",
    "    train_new_df = train_m.copy()\n",
    "    # Get the current month\n",
    "    train_new_df['date_block_num'] += lag\n",
    "    train_new_df = train_new_df[['date_block_num','shop_id','item_id']+lag_features]\n",
    "    # Name the columns as lag features of the month\n",
    "    train_new_df.columns = ['date_block_num','shop_id','item_id'] + [x+'_lag_'+str(lag) for x in lag_features]\n",
    "    test = pd.merge(test,train_new_df,on=['date_block_num','shop_id','item_id'],how='left')\n",
    "    del train_new_df\n",
    "    gc.collect()\n",
    "    print ('lag %s processed' %lag)"
   ]
  },
  {
   "cell_type": "code",
   "execution_count": 24,
   "metadata": {},
   "outputs": [],
   "source": [
    "# Fill NaNs\n",
    "for f in test.columns:\n",
    "    if 'item_cnt' in f:\n",
    "        test[f] = test[f].fillna(0)\n",
    "    elif 'item_price' in f:\n",
    "        test[f] = test[f].fillna(test[f].median())\n",
    "\n",
    "test = data_compression(test)"
   ]
  },
  {
   "cell_type": "markdown",
   "metadata": {},
   "source": [
    "### Drop all columns which are not lag features\n",
    "Exceptions:<br> \n",
    "shop_id, item_id: not time dependent<br> \n",
    "date_block_num: the indicator of time<br> \n",
    "item_cnt_Day: the target"
   ]
  },
  {
   "cell_type": "code",
   "execution_count": 25,
   "metadata": {},
   "outputs": [
    {
     "name": "stdout",
     "output_type": "stream",
     "text": [
      "Columns to drop\n",
      "['item_id_avg_item_price', 'item_id_sum_item_cnt_day', 'item_id_avg_item_cnt_day', 'shop_id_avg_item_price', 'shop_id_sum_item_cnt_day', 'shop_id_avg_item_cnt_day', 'item_category_id_avg_item_price', 'item_category_id_sum_item_cnt_day', 'item_category_id_avg_item_cnt_day', 'item_price']\n"
     ]
    }
   ],
   "source": [
    "cols_to_drop = lag_features[:-1] + ['item_price']\n",
    "print ('Columns to drop')\n",
    "print (cols_to_drop)"
   ]
  },
  {
   "cell_type": "code",
   "execution_count": 26,
   "metadata": {},
   "outputs": [],
   "source": [
    "train_cols = train_m.columns.values\n",
    "test_cols = test.columns.values\n",
    "for c in cols_to_drop:\n",
    "    if c in train_cols:\n",
    "        train_m = train_m.drop(c,axis=1)\n",
    "    if c in test_cols:\n",
    "        test = test.drop(c,axis=1)"
   ]
  },
  {
   "cell_type": "markdown",
   "metadata": {},
   "source": [
    "### Create New Features"
   ]
  },
  {
   "cell_type": "code",
   "execution_count": 27,
   "metadata": {},
   "outputs": [],
   "source": [
    "# Month number\n",
    "train_m['month'] = train_m['date_block_num']%12\n",
    "train_m['month'] = train_m['month'].astype(np.int8)\n",
    "# Number of days in a month, no leap years here\n",
    "days = pd.Series([31,28,31,30,31,30,31,31,30,31,30,31])\n",
    "train_m['days'] = train_m['month'].map(days).astype(np.int8)\n",
    "\n",
    "test['month'] = 11\n",
    "test['month'] = test['month'].astype(np.int8)\n",
    "test['days'] = 30\n",
    "test['days'] = test['days'].astype(np.int8)"
   ]
  },
  {
   "cell_type": "markdown",
   "metadata": {},
   "source": [
    "### Check if test lag variables are correct"
   ]
  },
  {
   "cell_type": "code",
   "execution_count": 28,
   "metadata": {},
   "outputs": [
    {
     "data": {
      "text/plain": [
       "{'item_cnt_day'}"
      ]
     },
     "execution_count": 28,
     "metadata": {},
     "output_type": "execute_result"
    }
   ],
   "source": [
    "# Assert all the columns are the same except target column\n",
    "set(train_m.columns.values) ^ set(test.columns.values)"
   ]
  },
  {
   "cell_type": "code",
   "execution_count": 29,
   "metadata": {},
   "outputs": [
    {
     "data": {
      "text/html": [
       "<div>\n",
       "<style scoped>\n",
       "    .dataframe tbody tr th:only-of-type {\n",
       "        vertical-align: middle;\n",
       "    }\n",
       "\n",
       "    .dataframe tbody tr th {\n",
       "        vertical-align: top;\n",
       "    }\n",
       "\n",
       "    .dataframe thead th {\n",
       "        text-align: right;\n",
       "    }\n",
       "</style>\n",
       "<table border=\"1\" class=\"dataframe\">\n",
       "  <thead>\n",
       "    <tr style=\"text-align: right;\">\n",
       "      <th></th>\n",
       "      <th>shop_id</th>\n",
       "      <th>item_id</th>\n",
       "      <th>date_block_num</th>\n",
       "      <th>item_cnt_day</th>\n",
       "      <th>item_category_id</th>\n",
       "      <th>item_id_avg_item_price_lag_1</th>\n",
       "      <th>item_id_sum_item_cnt_day_lag_1</th>\n",
       "      <th>item_id_avg_item_cnt_day_lag_1</th>\n",
       "      <th>shop_id_avg_item_price_lag_1</th>\n",
       "      <th>shop_id_sum_item_cnt_day_lag_1</th>\n",
       "      <th>shop_id_avg_item_cnt_day_lag_1</th>\n",
       "      <th>item_category_id_avg_item_price_lag_1</th>\n",
       "      <th>item_category_id_sum_item_cnt_day_lag_1</th>\n",
       "      <th>item_category_id_avg_item_cnt_day_lag_1</th>\n",
       "      <th>item_cnt_day_lag_1</th>\n",
       "      <th>item_id_avg_item_price_lag_2</th>\n",
       "      <th>item_id_sum_item_cnt_day_lag_2</th>\n",
       "      <th>item_id_avg_item_cnt_day_lag_2</th>\n",
       "      <th>shop_id_avg_item_price_lag_2</th>\n",
       "      <th>shop_id_sum_item_cnt_day_lag_2</th>\n",
       "      <th>shop_id_avg_item_cnt_day_lag_2</th>\n",
       "      <th>item_category_id_avg_item_price_lag_2</th>\n",
       "      <th>item_category_id_sum_item_cnt_day_lag_2</th>\n",
       "      <th>item_category_id_avg_item_cnt_day_lag_2</th>\n",
       "      <th>item_cnt_day_lag_2</th>\n",
       "      <th>item_id_avg_item_price_lag_3</th>\n",
       "      <th>item_id_sum_item_cnt_day_lag_3</th>\n",
       "      <th>item_id_avg_item_cnt_day_lag_3</th>\n",
       "      <th>shop_id_avg_item_price_lag_3</th>\n",
       "      <th>shop_id_sum_item_cnt_day_lag_3</th>\n",
       "      <th>shop_id_avg_item_cnt_day_lag_3</th>\n",
       "      <th>item_category_id_avg_item_price_lag_3</th>\n",
       "      <th>item_category_id_sum_item_cnt_day_lag_3</th>\n",
       "      <th>item_category_id_avg_item_cnt_day_lag_3</th>\n",
       "      <th>item_cnt_day_lag_3</th>\n",
       "      <th>item_id_avg_item_price_lag_6</th>\n",
       "      <th>item_id_sum_item_cnt_day_lag_6</th>\n",
       "      <th>item_id_avg_item_cnt_day_lag_6</th>\n",
       "      <th>shop_id_avg_item_price_lag_6</th>\n",
       "      <th>shop_id_sum_item_cnt_day_lag_6</th>\n",
       "      <th>shop_id_avg_item_cnt_day_lag_6</th>\n",
       "      <th>item_category_id_avg_item_price_lag_6</th>\n",
       "      <th>item_category_id_sum_item_cnt_day_lag_6</th>\n",
       "      <th>item_category_id_avg_item_cnt_day_lag_6</th>\n",
       "      <th>item_cnt_day_lag_6</th>\n",
       "      <th>month</th>\n",
       "      <th>days</th>\n",
       "    </tr>\n",
       "  </thead>\n",
       "  <tbody>\n",
       "    <tr>\n",
       "      <th>0</th>\n",
       "      <td>59</td>\n",
       "      <td>22154</td>\n",
       "      <td>0</td>\n",
       "      <td>1.00</td>\n",
       "      <td>37</td>\n",
       "      <td>299.00</td>\n",
       "      <td>0</td>\n",
       "      <td>0.00</td>\n",
       "      <td>891.00</td>\n",
       "      <td>0</td>\n",
       "      <td>0.00</td>\n",
       "      <td>379.00</td>\n",
       "      <td>0</td>\n",
       "      <td>0.00</td>\n",
       "      <td>0</td>\n",
       "      <td>299.00</td>\n",
       "      <td>0</td>\n",
       "      <td>0.00</td>\n",
       "      <td>883.00</td>\n",
       "      <td>0</td>\n",
       "      <td>0.00</td>\n",
       "      <td>379.00</td>\n",
       "      <td>0</td>\n",
       "      <td>0.00</td>\n",
       "      <td>0</td>\n",
       "      <td>299.00</td>\n",
       "      <td>0</td>\n",
       "      <td>0.00</td>\n",
       "      <td>878.00</td>\n",
       "      <td>0</td>\n",
       "      <td>0.00</td>\n",
       "      <td>376.00</td>\n",
       "      <td>0</td>\n",
       "      <td>0.00</td>\n",
       "      <td>0</td>\n",
       "      <td>299.00</td>\n",
       "      <td>0</td>\n",
       "      <td>0.00</td>\n",
       "      <td>859.00</td>\n",
       "      <td>0</td>\n",
       "      <td>0.00</td>\n",
       "      <td>376.00</td>\n",
       "      <td>0</td>\n",
       "      <td>0.00</td>\n",
       "      <td>0</td>\n",
       "      <td>0</td>\n",
       "      <td>31</td>\n",
       "    </tr>\n",
       "    <tr>\n",
       "      <th>1</th>\n",
       "      <td>59</td>\n",
       "      <td>2552</td>\n",
       "      <td>0</td>\n",
       "      <td>0.00</td>\n",
       "      <td>58</td>\n",
       "      <td>299.00</td>\n",
       "      <td>0</td>\n",
       "      <td>0.00</td>\n",
       "      <td>891.00</td>\n",
       "      <td>0</td>\n",
       "      <td>0.00</td>\n",
       "      <td>379.00</td>\n",
       "      <td>0</td>\n",
       "      <td>0.00</td>\n",
       "      <td>0</td>\n",
       "      <td>299.00</td>\n",
       "      <td>0</td>\n",
       "      <td>0.00</td>\n",
       "      <td>883.00</td>\n",
       "      <td>0</td>\n",
       "      <td>0.00</td>\n",
       "      <td>379.00</td>\n",
       "      <td>0</td>\n",
       "      <td>0.00</td>\n",
       "      <td>0</td>\n",
       "      <td>299.00</td>\n",
       "      <td>0</td>\n",
       "      <td>0.00</td>\n",
       "      <td>878.00</td>\n",
       "      <td>0</td>\n",
       "      <td>0.00</td>\n",
       "      <td>376.00</td>\n",
       "      <td>0</td>\n",
       "      <td>0.00</td>\n",
       "      <td>0</td>\n",
       "      <td>299.00</td>\n",
       "      <td>0</td>\n",
       "      <td>0.00</td>\n",
       "      <td>859.00</td>\n",
       "      <td>0</td>\n",
       "      <td>0.00</td>\n",
       "      <td>376.00</td>\n",
       "      <td>0</td>\n",
       "      <td>0.00</td>\n",
       "      <td>0</td>\n",
       "      <td>0</td>\n",
       "      <td>31</td>\n",
       "    </tr>\n",
       "    <tr>\n",
       "      <th>2</th>\n",
       "      <td>59</td>\n",
       "      <td>2554</td>\n",
       "      <td>0</td>\n",
       "      <td>0.00</td>\n",
       "      <td>58</td>\n",
       "      <td>299.00</td>\n",
       "      <td>0</td>\n",
       "      <td>0.00</td>\n",
       "      <td>891.00</td>\n",
       "      <td>0</td>\n",
       "      <td>0.00</td>\n",
       "      <td>379.00</td>\n",
       "      <td>0</td>\n",
       "      <td>0.00</td>\n",
       "      <td>0</td>\n",
       "      <td>299.00</td>\n",
       "      <td>0</td>\n",
       "      <td>0.00</td>\n",
       "      <td>883.00</td>\n",
       "      <td>0</td>\n",
       "      <td>0.00</td>\n",
       "      <td>379.00</td>\n",
       "      <td>0</td>\n",
       "      <td>0.00</td>\n",
       "      <td>0</td>\n",
       "      <td>299.00</td>\n",
       "      <td>0</td>\n",
       "      <td>0.00</td>\n",
       "      <td>878.00</td>\n",
       "      <td>0</td>\n",
       "      <td>0.00</td>\n",
       "      <td>376.00</td>\n",
       "      <td>0</td>\n",
       "      <td>0.00</td>\n",
       "      <td>0</td>\n",
       "      <td>299.00</td>\n",
       "      <td>0</td>\n",
       "      <td>0.00</td>\n",
       "      <td>859.00</td>\n",
       "      <td>0</td>\n",
       "      <td>0.00</td>\n",
       "      <td>376.00</td>\n",
       "      <td>0</td>\n",
       "      <td>0.00</td>\n",
       "      <td>0</td>\n",
       "      <td>0</td>\n",
       "      <td>31</td>\n",
       "    </tr>\n",
       "    <tr>\n",
       "      <th>3</th>\n",
       "      <td>59</td>\n",
       "      <td>2555</td>\n",
       "      <td>0</td>\n",
       "      <td>0.00</td>\n",
       "      <td>56</td>\n",
       "      <td>299.00</td>\n",
       "      <td>0</td>\n",
       "      <td>0.00</td>\n",
       "      <td>891.00</td>\n",
       "      <td>0</td>\n",
       "      <td>0.00</td>\n",
       "      <td>379.00</td>\n",
       "      <td>0</td>\n",
       "      <td>0.00</td>\n",
       "      <td>0</td>\n",
       "      <td>299.00</td>\n",
       "      <td>0</td>\n",
       "      <td>0.00</td>\n",
       "      <td>883.00</td>\n",
       "      <td>0</td>\n",
       "      <td>0.00</td>\n",
       "      <td>379.00</td>\n",
       "      <td>0</td>\n",
       "      <td>0.00</td>\n",
       "      <td>0</td>\n",
       "      <td>299.00</td>\n",
       "      <td>0</td>\n",
       "      <td>0.00</td>\n",
       "      <td>878.00</td>\n",
       "      <td>0</td>\n",
       "      <td>0.00</td>\n",
       "      <td>376.00</td>\n",
       "      <td>0</td>\n",
       "      <td>0.00</td>\n",
       "      <td>0</td>\n",
       "      <td>299.00</td>\n",
       "      <td>0</td>\n",
       "      <td>0.00</td>\n",
       "      <td>859.00</td>\n",
       "      <td>0</td>\n",
       "      <td>0.00</td>\n",
       "      <td>376.00</td>\n",
       "      <td>0</td>\n",
       "      <td>0.00</td>\n",
       "      <td>0</td>\n",
       "      <td>0</td>\n",
       "      <td>31</td>\n",
       "    </tr>\n",
       "    <tr>\n",
       "      <th>4</th>\n",
       "      <td>59</td>\n",
       "      <td>2564</td>\n",
       "      <td>0</td>\n",
       "      <td>0.00</td>\n",
       "      <td>59</td>\n",
       "      <td>299.00</td>\n",
       "      <td>0</td>\n",
       "      <td>0.00</td>\n",
       "      <td>891.00</td>\n",
       "      <td>0</td>\n",
       "      <td>0.00</td>\n",
       "      <td>379.00</td>\n",
       "      <td>0</td>\n",
       "      <td>0.00</td>\n",
       "      <td>0</td>\n",
       "      <td>299.00</td>\n",
       "      <td>0</td>\n",
       "      <td>0.00</td>\n",
       "      <td>883.00</td>\n",
       "      <td>0</td>\n",
       "      <td>0.00</td>\n",
       "      <td>379.00</td>\n",
       "      <td>0</td>\n",
       "      <td>0.00</td>\n",
       "      <td>0</td>\n",
       "      <td>299.00</td>\n",
       "      <td>0</td>\n",
       "      <td>0.00</td>\n",
       "      <td>878.00</td>\n",
       "      <td>0</td>\n",
       "      <td>0.00</td>\n",
       "      <td>376.00</td>\n",
       "      <td>0</td>\n",
       "      <td>0.00</td>\n",
       "      <td>0</td>\n",
       "      <td>299.00</td>\n",
       "      <td>0</td>\n",
       "      <td>0.00</td>\n",
       "      <td>859.00</td>\n",
       "      <td>0</td>\n",
       "      <td>0.00</td>\n",
       "      <td>376.00</td>\n",
       "      <td>0</td>\n",
       "      <td>0.00</td>\n",
       "      <td>0</td>\n",
       "      <td>0</td>\n",
       "      <td>31</td>\n",
       "    </tr>\n",
       "  </tbody>\n",
       "</table>\n",
       "</div>"
      ],
      "text/plain": [
       "   shop_id  item_id  date_block_num  item_cnt_day  item_category_id  \\\n",
       "0       59    22154               0          1.00                37   \n",
       "1       59     2552               0          0.00                58   \n",
       "2       59     2554               0          0.00                58   \n",
       "3       59     2555               0          0.00                56   \n",
       "4       59     2564               0          0.00                59   \n",
       "\n",
       "   item_id_avg_item_price_lag_1  item_id_sum_item_cnt_day_lag_1  \\\n",
       "0                        299.00                               0   \n",
       "1                        299.00                               0   \n",
       "2                        299.00                               0   \n",
       "3                        299.00                               0   \n",
       "4                        299.00                               0   \n",
       "\n",
       "   item_id_avg_item_cnt_day_lag_1  shop_id_avg_item_price_lag_1  \\\n",
       "0                            0.00                        891.00   \n",
       "1                            0.00                        891.00   \n",
       "2                            0.00                        891.00   \n",
       "3                            0.00                        891.00   \n",
       "4                            0.00                        891.00   \n",
       "\n",
       "   shop_id_sum_item_cnt_day_lag_1  shop_id_avg_item_cnt_day_lag_1  \\\n",
       "0                               0                            0.00   \n",
       "1                               0                            0.00   \n",
       "2                               0                            0.00   \n",
       "3                               0                            0.00   \n",
       "4                               0                            0.00   \n",
       "\n",
       "   item_category_id_avg_item_price_lag_1  \\\n",
       "0                                 379.00   \n",
       "1                                 379.00   \n",
       "2                                 379.00   \n",
       "3                                 379.00   \n",
       "4                                 379.00   \n",
       "\n",
       "   item_category_id_sum_item_cnt_day_lag_1  \\\n",
       "0                                        0   \n",
       "1                                        0   \n",
       "2                                        0   \n",
       "3                                        0   \n",
       "4                                        0   \n",
       "\n",
       "   item_category_id_avg_item_cnt_day_lag_1  item_cnt_day_lag_1  \\\n",
       "0                                     0.00                   0   \n",
       "1                                     0.00                   0   \n",
       "2                                     0.00                   0   \n",
       "3                                     0.00                   0   \n",
       "4                                     0.00                   0   \n",
       "\n",
       "   item_id_avg_item_price_lag_2  item_id_sum_item_cnt_day_lag_2  \\\n",
       "0                        299.00                               0   \n",
       "1                        299.00                               0   \n",
       "2                        299.00                               0   \n",
       "3                        299.00                               0   \n",
       "4                        299.00                               0   \n",
       "\n",
       "   item_id_avg_item_cnt_day_lag_2  shop_id_avg_item_price_lag_2  \\\n",
       "0                            0.00                        883.00   \n",
       "1                            0.00                        883.00   \n",
       "2                            0.00                        883.00   \n",
       "3                            0.00                        883.00   \n",
       "4                            0.00                        883.00   \n",
       "\n",
       "   shop_id_sum_item_cnt_day_lag_2  shop_id_avg_item_cnt_day_lag_2  \\\n",
       "0                               0                            0.00   \n",
       "1                               0                            0.00   \n",
       "2                               0                            0.00   \n",
       "3                               0                            0.00   \n",
       "4                               0                            0.00   \n",
       "\n",
       "   item_category_id_avg_item_price_lag_2  \\\n",
       "0                                 379.00   \n",
       "1                                 379.00   \n",
       "2                                 379.00   \n",
       "3                                 379.00   \n",
       "4                                 379.00   \n",
       "\n",
       "   item_category_id_sum_item_cnt_day_lag_2  \\\n",
       "0                                        0   \n",
       "1                                        0   \n",
       "2                                        0   \n",
       "3                                        0   \n",
       "4                                        0   \n",
       "\n",
       "   item_category_id_avg_item_cnt_day_lag_2  item_cnt_day_lag_2  \\\n",
       "0                                     0.00                   0   \n",
       "1                                     0.00                   0   \n",
       "2                                     0.00                   0   \n",
       "3                                     0.00                   0   \n",
       "4                                     0.00                   0   \n",
       "\n",
       "   item_id_avg_item_price_lag_3  item_id_sum_item_cnt_day_lag_3  \\\n",
       "0                        299.00                               0   \n",
       "1                        299.00                               0   \n",
       "2                        299.00                               0   \n",
       "3                        299.00                               0   \n",
       "4                        299.00                               0   \n",
       "\n",
       "   item_id_avg_item_cnt_day_lag_3  shop_id_avg_item_price_lag_3  \\\n",
       "0                            0.00                        878.00   \n",
       "1                            0.00                        878.00   \n",
       "2                            0.00                        878.00   \n",
       "3                            0.00                        878.00   \n",
       "4                            0.00                        878.00   \n",
       "\n",
       "   shop_id_sum_item_cnt_day_lag_3  shop_id_avg_item_cnt_day_lag_3  \\\n",
       "0                               0                            0.00   \n",
       "1                               0                            0.00   \n",
       "2                               0                            0.00   \n",
       "3                               0                            0.00   \n",
       "4                               0                            0.00   \n",
       "\n",
       "   item_category_id_avg_item_price_lag_3  \\\n",
       "0                                 376.00   \n",
       "1                                 376.00   \n",
       "2                                 376.00   \n",
       "3                                 376.00   \n",
       "4                                 376.00   \n",
       "\n",
       "   item_category_id_sum_item_cnt_day_lag_3  \\\n",
       "0                                        0   \n",
       "1                                        0   \n",
       "2                                        0   \n",
       "3                                        0   \n",
       "4                                        0   \n",
       "\n",
       "   item_category_id_avg_item_cnt_day_lag_3  item_cnt_day_lag_3  \\\n",
       "0                                     0.00                   0   \n",
       "1                                     0.00                   0   \n",
       "2                                     0.00                   0   \n",
       "3                                     0.00                   0   \n",
       "4                                     0.00                   0   \n",
       "\n",
       "   item_id_avg_item_price_lag_6  item_id_sum_item_cnt_day_lag_6  \\\n",
       "0                        299.00                               0   \n",
       "1                        299.00                               0   \n",
       "2                        299.00                               0   \n",
       "3                        299.00                               0   \n",
       "4                        299.00                               0   \n",
       "\n",
       "   item_id_avg_item_cnt_day_lag_6  shop_id_avg_item_price_lag_6  \\\n",
       "0                            0.00                        859.00   \n",
       "1                            0.00                        859.00   \n",
       "2                            0.00                        859.00   \n",
       "3                            0.00                        859.00   \n",
       "4                            0.00                        859.00   \n",
       "\n",
       "   shop_id_sum_item_cnt_day_lag_6  shop_id_avg_item_cnt_day_lag_6  \\\n",
       "0                               0                            0.00   \n",
       "1                               0                            0.00   \n",
       "2                               0                            0.00   \n",
       "3                               0                            0.00   \n",
       "4                               0                            0.00   \n",
       "\n",
       "   item_category_id_avg_item_price_lag_6  \\\n",
       "0                                 376.00   \n",
       "1                                 376.00   \n",
       "2                                 376.00   \n",
       "3                                 376.00   \n",
       "4                                 376.00   \n",
       "\n",
       "   item_category_id_sum_item_cnt_day_lag_6  \\\n",
       "0                                        0   \n",
       "1                                        0   \n",
       "2                                        0   \n",
       "3                                        0   \n",
       "4                                        0   \n",
       "\n",
       "   item_category_id_avg_item_cnt_day_lag_6  item_cnt_day_lag_6  month  days  \n",
       "0                                     0.00                   0      0    31  \n",
       "1                                     0.00                   0      0    31  \n",
       "2                                     0.00                   0      0    31  \n",
       "3                                     0.00                   0      0    31  \n",
       "4                                     0.00                   0      0    31  "
      ]
     },
     "execution_count": 29,
     "metadata": {},
     "output_type": "execute_result"
    }
   ],
   "source": [
    "train_m.head()"
   ]
  },
  {
   "cell_type": "code",
   "execution_count": 30,
   "metadata": {},
   "outputs": [
    {
     "data": {
      "text/html": [
       "<div>\n",
       "<style scoped>\n",
       "    .dataframe tbody tr th:only-of-type {\n",
       "        vertical-align: middle;\n",
       "    }\n",
       "\n",
       "    .dataframe tbody tr th {\n",
       "        vertical-align: top;\n",
       "    }\n",
       "\n",
       "    .dataframe thead th {\n",
       "        text-align: right;\n",
       "    }\n",
       "</style>\n",
       "<table border=\"1\" class=\"dataframe\">\n",
       "  <thead>\n",
       "    <tr style=\"text-align: right;\">\n",
       "      <th></th>\n",
       "      <th>shop_id</th>\n",
       "      <th>item_id</th>\n",
       "      <th>date_block_num</th>\n",
       "      <th>item_category_id</th>\n",
       "      <th>item_id_avg_item_price_lag_1</th>\n",
       "      <th>item_id_sum_item_cnt_day_lag_1</th>\n",
       "      <th>item_id_avg_item_cnt_day_lag_1</th>\n",
       "      <th>shop_id_avg_item_price_lag_1</th>\n",
       "      <th>shop_id_sum_item_cnt_day_lag_1</th>\n",
       "      <th>shop_id_avg_item_cnt_day_lag_1</th>\n",
       "      <th>item_category_id_avg_item_price_lag_1</th>\n",
       "      <th>item_category_id_sum_item_cnt_day_lag_1</th>\n",
       "      <th>item_category_id_avg_item_cnt_day_lag_1</th>\n",
       "      <th>item_cnt_day_lag_1</th>\n",
       "      <th>item_id_avg_item_price_lag_2</th>\n",
       "      <th>item_id_sum_item_cnt_day_lag_2</th>\n",
       "      <th>item_id_avg_item_cnt_day_lag_2</th>\n",
       "      <th>shop_id_avg_item_price_lag_2</th>\n",
       "      <th>shop_id_sum_item_cnt_day_lag_2</th>\n",
       "      <th>shop_id_avg_item_cnt_day_lag_2</th>\n",
       "      <th>item_category_id_avg_item_price_lag_2</th>\n",
       "      <th>item_category_id_sum_item_cnt_day_lag_2</th>\n",
       "      <th>item_category_id_avg_item_cnt_day_lag_2</th>\n",
       "      <th>item_cnt_day_lag_2</th>\n",
       "      <th>item_id_avg_item_price_lag_3</th>\n",
       "      <th>item_id_sum_item_cnt_day_lag_3</th>\n",
       "      <th>item_id_avg_item_cnt_day_lag_3</th>\n",
       "      <th>shop_id_avg_item_price_lag_3</th>\n",
       "      <th>shop_id_sum_item_cnt_day_lag_3</th>\n",
       "      <th>shop_id_avg_item_cnt_day_lag_3</th>\n",
       "      <th>item_category_id_avg_item_price_lag_3</th>\n",
       "      <th>item_category_id_sum_item_cnt_day_lag_3</th>\n",
       "      <th>item_category_id_avg_item_cnt_day_lag_3</th>\n",
       "      <th>item_cnt_day_lag_3</th>\n",
       "      <th>item_id_avg_item_price_lag_6</th>\n",
       "      <th>item_id_sum_item_cnt_day_lag_6</th>\n",
       "      <th>item_id_avg_item_cnt_day_lag_6</th>\n",
       "      <th>shop_id_avg_item_price_lag_6</th>\n",
       "      <th>shop_id_sum_item_cnt_day_lag_6</th>\n",
       "      <th>shop_id_avg_item_cnt_day_lag_6</th>\n",
       "      <th>item_category_id_avg_item_price_lag_6</th>\n",
       "      <th>item_category_id_sum_item_cnt_day_lag_6</th>\n",
       "      <th>item_category_id_avg_item_cnt_day_lag_6</th>\n",
       "      <th>item_cnt_day_lag_6</th>\n",
       "      <th>month</th>\n",
       "      <th>days</th>\n",
       "    </tr>\n",
       "  </thead>\n",
       "  <tbody>\n",
       "    <tr>\n",
       "      <th>0</th>\n",
       "      <td>5</td>\n",
       "      <td>5037</td>\n",
       "      <td>34</td>\n",
       "      <td>19</td>\n",
       "      <td>1499.00</td>\n",
       "      <td>25</td>\n",
       "      <td>1.00</td>\n",
       "      <td>1028.00</td>\n",
       "      <td>1054</td>\n",
       "      <td>1.00</td>\n",
       "      <td>1680.00</td>\n",
       "      <td>2450</td>\n",
       "      <td>1.00</td>\n",
       "      <td>0</td>\n",
       "      <td>936.68</td>\n",
       "      <td>111</td>\n",
       "      <td>1.00</td>\n",
       "      <td>1037.00</td>\n",
       "      <td>1098</td>\n",
       "      <td>1.00</td>\n",
       "      <td>1360.00</td>\n",
       "      <td>3998</td>\n",
       "      <td>1.00</td>\n",
       "      <td>1</td>\n",
       "      <td>894.59</td>\n",
       "      <td>119</td>\n",
       "      <td>1.00</td>\n",
       "      <td>911.00</td>\n",
       "      <td>1297</td>\n",
       "      <td>1.00</td>\n",
       "      <td>1140.00</td>\n",
       "      <td>4674</td>\n",
       "      <td>1.00</td>\n",
       "      <td>3</td>\n",
       "      <td>1542.87</td>\n",
       "      <td>87</td>\n",
       "      <td>1.00</td>\n",
       "      <td>959.00</td>\n",
       "      <td>1013</td>\n",
       "      <td>1.00</td>\n",
       "      <td>1418.00</td>\n",
       "      <td>3407</td>\n",
       "      <td>1.00</td>\n",
       "      <td>1</td>\n",
       "      <td>11</td>\n",
       "      <td>30</td>\n",
       "    </tr>\n",
       "    <tr>\n",
       "      <th>1</th>\n",
       "      <td>5</td>\n",
       "      <td>5320</td>\n",
       "      <td>34</td>\n",
       "      <td>55</td>\n",
       "      <td>449.00</td>\n",
       "      <td>0</td>\n",
       "      <td>0.00</td>\n",
       "      <td>1255.00</td>\n",
       "      <td>0</td>\n",
       "      <td>0.00</td>\n",
       "      <td>510.00</td>\n",
       "      <td>0</td>\n",
       "      <td>0.00</td>\n",
       "      <td>0</td>\n",
       "      <td>432.00</td>\n",
       "      <td>0</td>\n",
       "      <td>0.00</td>\n",
       "      <td>1204.00</td>\n",
       "      <td>0</td>\n",
       "      <td>0.00</td>\n",
       "      <td>511.00</td>\n",
       "      <td>0</td>\n",
       "      <td>0.00</td>\n",
       "      <td>0</td>\n",
       "      <td>435.33</td>\n",
       "      <td>0</td>\n",
       "      <td>0.00</td>\n",
       "      <td>980.00</td>\n",
       "      <td>0</td>\n",
       "      <td>0.00</td>\n",
       "      <td>488.00</td>\n",
       "      <td>0</td>\n",
       "      <td>0.00</td>\n",
       "      <td>0</td>\n",
       "      <td>437.75</td>\n",
       "      <td>0</td>\n",
       "      <td>0.00</td>\n",
       "      <td>1100.00</td>\n",
       "      <td>0</td>\n",
       "      <td>0.00</td>\n",
       "      <td>559.00</td>\n",
       "      <td>0</td>\n",
       "      <td>0.00</td>\n",
       "      <td>0</td>\n",
       "      <td>11</td>\n",
       "      <td>30</td>\n",
       "    </tr>\n",
       "    <tr>\n",
       "      <th>2</th>\n",
       "      <td>5</td>\n",
       "      <td>5233</td>\n",
       "      <td>34</td>\n",
       "      <td>19</td>\n",
       "      <td>1199.00</td>\n",
       "      <td>42</td>\n",
       "      <td>1.00</td>\n",
       "      <td>1028.00</td>\n",
       "      <td>1054</td>\n",
       "      <td>1.00</td>\n",
       "      <td>1680.00</td>\n",
       "      <td>2450</td>\n",
       "      <td>1.00</td>\n",
       "      <td>1</td>\n",
       "      <td>711.71</td>\n",
       "      <td>80</td>\n",
       "      <td>1.00</td>\n",
       "      <td>1037.00</td>\n",
       "      <td>1098</td>\n",
       "      <td>1.00</td>\n",
       "      <td>1360.00</td>\n",
       "      <td>3998</td>\n",
       "      <td>1.00</td>\n",
       "      <td>3</td>\n",
       "      <td>712.15</td>\n",
       "      <td>150</td>\n",
       "      <td>1.00</td>\n",
       "      <td>911.00</td>\n",
       "      <td>1297</td>\n",
       "      <td>1.00</td>\n",
       "      <td>1140.00</td>\n",
       "      <td>4674</td>\n",
       "      <td>1.00</td>\n",
       "      <td>1</td>\n",
       "      <td>790.03</td>\n",
       "      <td>71</td>\n",
       "      <td>1.00</td>\n",
       "      <td>959.00</td>\n",
       "      <td>1013</td>\n",
       "      <td>1.00</td>\n",
       "      <td>1418.00</td>\n",
       "      <td>3407</td>\n",
       "      <td>1.00</td>\n",
       "      <td>3</td>\n",
       "      <td>11</td>\n",
       "      <td>30</td>\n",
       "    </tr>\n",
       "    <tr>\n",
       "      <th>3</th>\n",
       "      <td>5</td>\n",
       "      <td>5232</td>\n",
       "      <td>34</td>\n",
       "      <td>23</td>\n",
       "      <td>1190.14</td>\n",
       "      <td>29</td>\n",
       "      <td>1.00</td>\n",
       "      <td>1028.00</td>\n",
       "      <td>1054</td>\n",
       "      <td>1.00</td>\n",
       "      <td>1796.00</td>\n",
       "      <td>2213</td>\n",
       "      <td>1.00</td>\n",
       "      <td>0</td>\n",
       "      <td>703.49</td>\n",
       "      <td>48</td>\n",
       "      <td>1.00</td>\n",
       "      <td>1037.00</td>\n",
       "      <td>1098</td>\n",
       "      <td>1.00</td>\n",
       "      <td>1269.00</td>\n",
       "      <td>3610</td>\n",
       "      <td>1.00</td>\n",
       "      <td>0</td>\n",
       "      <td>642.47</td>\n",
       "      <td>65</td>\n",
       "      <td>1.00</td>\n",
       "      <td>911.00</td>\n",
       "      <td>1297</td>\n",
       "      <td>1.00</td>\n",
       "      <td>1164.00</td>\n",
       "      <td>3666</td>\n",
       "      <td>1.00</td>\n",
       "      <td>1</td>\n",
       "      <td>437.75</td>\n",
       "      <td>0</td>\n",
       "      <td>0.00</td>\n",
       "      <td>1100.00</td>\n",
       "      <td>0</td>\n",
       "      <td>0.00</td>\n",
       "      <td>559.00</td>\n",
       "      <td>0</td>\n",
       "      <td>0.00</td>\n",
       "      <td>0</td>\n",
       "      <td>11</td>\n",
       "      <td>30</td>\n",
       "    </tr>\n",
       "    <tr>\n",
       "      <th>4</th>\n",
       "      <td>5</td>\n",
       "      <td>5268</td>\n",
       "      <td>34</td>\n",
       "      <td>20</td>\n",
       "      <td>449.00</td>\n",
       "      <td>0</td>\n",
       "      <td>0.00</td>\n",
       "      <td>1255.00</td>\n",
       "      <td>0</td>\n",
       "      <td>0.00</td>\n",
       "      <td>510.00</td>\n",
       "      <td>0</td>\n",
       "      <td>0.00</td>\n",
       "      <td>0</td>\n",
       "      <td>432.00</td>\n",
       "      <td>0</td>\n",
       "      <td>0.00</td>\n",
       "      <td>1204.00</td>\n",
       "      <td>0</td>\n",
       "      <td>0.00</td>\n",
       "      <td>511.00</td>\n",
       "      <td>0</td>\n",
       "      <td>0.00</td>\n",
       "      <td>0</td>\n",
       "      <td>435.33</td>\n",
       "      <td>0</td>\n",
       "      <td>0.00</td>\n",
       "      <td>980.00</td>\n",
       "      <td>0</td>\n",
       "      <td>0.00</td>\n",
       "      <td>488.00</td>\n",
       "      <td>0</td>\n",
       "      <td>0.00</td>\n",
       "      <td>0</td>\n",
       "      <td>437.75</td>\n",
       "      <td>0</td>\n",
       "      <td>0.00</td>\n",
       "      <td>1100.00</td>\n",
       "      <td>0</td>\n",
       "      <td>0.00</td>\n",
       "      <td>559.00</td>\n",
       "      <td>0</td>\n",
       "      <td>0.00</td>\n",
       "      <td>0</td>\n",
       "      <td>11</td>\n",
       "      <td>30</td>\n",
       "    </tr>\n",
       "  </tbody>\n",
       "</table>\n",
       "</div>"
      ],
      "text/plain": [
       "   shop_id  item_id  date_block_num  item_category_id  \\\n",
       "0        5     5037              34                19   \n",
       "1        5     5320              34                55   \n",
       "2        5     5233              34                19   \n",
       "3        5     5232              34                23   \n",
       "4        5     5268              34                20   \n",
       "\n",
       "   item_id_avg_item_price_lag_1  item_id_sum_item_cnt_day_lag_1  \\\n",
       "0                       1499.00                              25   \n",
       "1                        449.00                               0   \n",
       "2                       1199.00                              42   \n",
       "3                       1190.14                              29   \n",
       "4                        449.00                               0   \n",
       "\n",
       "   item_id_avg_item_cnt_day_lag_1  shop_id_avg_item_price_lag_1  \\\n",
       "0                            1.00                       1028.00   \n",
       "1                            0.00                       1255.00   \n",
       "2                            1.00                       1028.00   \n",
       "3                            1.00                       1028.00   \n",
       "4                            0.00                       1255.00   \n",
       "\n",
       "   shop_id_sum_item_cnt_day_lag_1  shop_id_avg_item_cnt_day_lag_1  \\\n",
       "0                            1054                            1.00   \n",
       "1                               0                            0.00   \n",
       "2                            1054                            1.00   \n",
       "3                            1054                            1.00   \n",
       "4                               0                            0.00   \n",
       "\n",
       "   item_category_id_avg_item_price_lag_1  \\\n",
       "0                                1680.00   \n",
       "1                                 510.00   \n",
       "2                                1680.00   \n",
       "3                                1796.00   \n",
       "4                                 510.00   \n",
       "\n",
       "   item_category_id_sum_item_cnt_day_lag_1  \\\n",
       "0                                     2450   \n",
       "1                                        0   \n",
       "2                                     2450   \n",
       "3                                     2213   \n",
       "4                                        0   \n",
       "\n",
       "   item_category_id_avg_item_cnt_day_lag_1  item_cnt_day_lag_1  \\\n",
       "0                                     1.00                   0   \n",
       "1                                     0.00                   0   \n",
       "2                                     1.00                   1   \n",
       "3                                     1.00                   0   \n",
       "4                                     0.00                   0   \n",
       "\n",
       "   item_id_avg_item_price_lag_2  item_id_sum_item_cnt_day_lag_2  \\\n",
       "0                        936.68                             111   \n",
       "1                        432.00                               0   \n",
       "2                        711.71                              80   \n",
       "3                        703.49                              48   \n",
       "4                        432.00                               0   \n",
       "\n",
       "   item_id_avg_item_cnt_day_lag_2  shop_id_avg_item_price_lag_2  \\\n",
       "0                            1.00                       1037.00   \n",
       "1                            0.00                       1204.00   \n",
       "2                            1.00                       1037.00   \n",
       "3                            1.00                       1037.00   \n",
       "4                            0.00                       1204.00   \n",
       "\n",
       "   shop_id_sum_item_cnt_day_lag_2  shop_id_avg_item_cnt_day_lag_2  \\\n",
       "0                            1098                            1.00   \n",
       "1                               0                            0.00   \n",
       "2                            1098                            1.00   \n",
       "3                            1098                            1.00   \n",
       "4                               0                            0.00   \n",
       "\n",
       "   item_category_id_avg_item_price_lag_2  \\\n",
       "0                                1360.00   \n",
       "1                                 511.00   \n",
       "2                                1360.00   \n",
       "3                                1269.00   \n",
       "4                                 511.00   \n",
       "\n",
       "   item_category_id_sum_item_cnt_day_lag_2  \\\n",
       "0                                     3998   \n",
       "1                                        0   \n",
       "2                                     3998   \n",
       "3                                     3610   \n",
       "4                                        0   \n",
       "\n",
       "   item_category_id_avg_item_cnt_day_lag_2  item_cnt_day_lag_2  \\\n",
       "0                                     1.00                   1   \n",
       "1                                     0.00                   0   \n",
       "2                                     1.00                   3   \n",
       "3                                     1.00                   0   \n",
       "4                                     0.00                   0   \n",
       "\n",
       "   item_id_avg_item_price_lag_3  item_id_sum_item_cnt_day_lag_3  \\\n",
       "0                        894.59                             119   \n",
       "1                        435.33                               0   \n",
       "2                        712.15                             150   \n",
       "3                        642.47                              65   \n",
       "4                        435.33                               0   \n",
       "\n",
       "   item_id_avg_item_cnt_day_lag_3  shop_id_avg_item_price_lag_3  \\\n",
       "0                            1.00                        911.00   \n",
       "1                            0.00                        980.00   \n",
       "2                            1.00                        911.00   \n",
       "3                            1.00                        911.00   \n",
       "4                            0.00                        980.00   \n",
       "\n",
       "   shop_id_sum_item_cnt_day_lag_3  shop_id_avg_item_cnt_day_lag_3  \\\n",
       "0                            1297                            1.00   \n",
       "1                               0                            0.00   \n",
       "2                            1297                            1.00   \n",
       "3                            1297                            1.00   \n",
       "4                               0                            0.00   \n",
       "\n",
       "   item_category_id_avg_item_price_lag_3  \\\n",
       "0                                1140.00   \n",
       "1                                 488.00   \n",
       "2                                1140.00   \n",
       "3                                1164.00   \n",
       "4                                 488.00   \n",
       "\n",
       "   item_category_id_sum_item_cnt_day_lag_3  \\\n",
       "0                                     4674   \n",
       "1                                        0   \n",
       "2                                     4674   \n",
       "3                                     3666   \n",
       "4                                        0   \n",
       "\n",
       "   item_category_id_avg_item_cnt_day_lag_3  item_cnt_day_lag_3  \\\n",
       "0                                     1.00                   3   \n",
       "1                                     0.00                   0   \n",
       "2                                     1.00                   1   \n",
       "3                                     1.00                   1   \n",
       "4                                     0.00                   0   \n",
       "\n",
       "   item_id_avg_item_price_lag_6  item_id_sum_item_cnt_day_lag_6  \\\n",
       "0                       1542.87                              87   \n",
       "1                        437.75                               0   \n",
       "2                        790.03                              71   \n",
       "3                        437.75                               0   \n",
       "4                        437.75                               0   \n",
       "\n",
       "   item_id_avg_item_cnt_day_lag_6  shop_id_avg_item_price_lag_6  \\\n",
       "0                            1.00                        959.00   \n",
       "1                            0.00                       1100.00   \n",
       "2                            1.00                        959.00   \n",
       "3                            0.00                       1100.00   \n",
       "4                            0.00                       1100.00   \n",
       "\n",
       "   shop_id_sum_item_cnt_day_lag_6  shop_id_avg_item_cnt_day_lag_6  \\\n",
       "0                            1013                            1.00   \n",
       "1                               0                            0.00   \n",
       "2                            1013                            1.00   \n",
       "3                               0                            0.00   \n",
       "4                               0                            0.00   \n",
       "\n",
       "   item_category_id_avg_item_price_lag_6  \\\n",
       "0                                1418.00   \n",
       "1                                 559.00   \n",
       "2                                1418.00   \n",
       "3                                 559.00   \n",
       "4                                 559.00   \n",
       "\n",
       "   item_category_id_sum_item_cnt_day_lag_6  \\\n",
       "0                                     3407   \n",
       "1                                        0   \n",
       "2                                     3407   \n",
       "3                                        0   \n",
       "4                                        0   \n",
       "\n",
       "   item_category_id_avg_item_cnt_day_lag_6  item_cnt_day_lag_6  month  days  \n",
       "0                                     1.00                   1     11    30  \n",
       "1                                     0.00                   0     11    30  \n",
       "2                                     1.00                   3     11    30  \n",
       "3                                     0.00                   0     11    30  \n",
       "4                                     0.00                   0     11    30  "
      ]
     },
     "execution_count": 30,
     "metadata": {},
     "output_type": "execute_result"
    }
   ],
   "source": [
    "test.head()"
   ]
  },
  {
   "cell_type": "markdown",
   "metadata": {},
   "source": [
    "It seems that the order of the columns are the same for train & test.<br>\n",
    "(Except for the target column 'item_cnt_day')"
   ]
  },
  {
   "cell_type": "code",
   "execution_count": 31,
   "metadata": {},
   "outputs": [
    {
     "data": {
      "text/html": [
       "<div>\n",
       "<style scoped>\n",
       "    .dataframe tbody tr th:only-of-type {\n",
       "        vertical-align: middle;\n",
       "    }\n",
       "\n",
       "    .dataframe tbody tr th {\n",
       "        vertical-align: top;\n",
       "    }\n",
       "\n",
       "    .dataframe thead th {\n",
       "        text-align: right;\n",
       "    }\n",
       "</style>\n",
       "<table border=\"1\" class=\"dataframe\">\n",
       "  <thead>\n",
       "    <tr style=\"text-align: right;\">\n",
       "      <th></th>\n",
       "      <th>shop_id</th>\n",
       "      <th>item_id</th>\n",
       "      <th>item_cnt_day_lag_1</th>\n",
       "      <th>item_cnt_day_lag_2</th>\n",
       "      <th>item_cnt_day_lag_3</th>\n",
       "    </tr>\n",
       "  </thead>\n",
       "  <tbody>\n",
       "    <tr>\n",
       "      <th>0</th>\n",
       "      <td>5</td>\n",
       "      <td>5037</td>\n",
       "      <td>0</td>\n",
       "      <td>1</td>\n",
       "      <td>3</td>\n",
       "    </tr>\n",
       "    <tr>\n",
       "      <th>1</th>\n",
       "      <td>5</td>\n",
       "      <td>5320</td>\n",
       "      <td>0</td>\n",
       "      <td>0</td>\n",
       "      <td>0</td>\n",
       "    </tr>\n",
       "    <tr>\n",
       "      <th>2</th>\n",
       "      <td>5</td>\n",
       "      <td>5233</td>\n",
       "      <td>1</td>\n",
       "      <td>3</td>\n",
       "      <td>1</td>\n",
       "    </tr>\n",
       "    <tr>\n",
       "      <th>3</th>\n",
       "      <td>5</td>\n",
       "      <td>5232</td>\n",
       "      <td>0</td>\n",
       "      <td>0</td>\n",
       "      <td>1</td>\n",
       "    </tr>\n",
       "    <tr>\n",
       "      <th>4</th>\n",
       "      <td>5</td>\n",
       "      <td>5268</td>\n",
       "      <td>0</td>\n",
       "      <td>0</td>\n",
       "      <td>0</td>\n",
       "    </tr>\n",
       "  </tbody>\n",
       "</table>\n",
       "</div>"
      ],
      "text/plain": [
       "   shop_id  item_id  item_cnt_day_lag_1  item_cnt_day_lag_2  \\\n",
       "0        5     5037                   0                   1   \n",
       "1        5     5320                   0                   0   \n",
       "2        5     5233                   1                   3   \n",
       "3        5     5232                   0                   0   \n",
       "4        5     5268                   0                   0   \n",
       "\n",
       "   item_cnt_day_lag_3  \n",
       "0                   3  \n",
       "1                   0  \n",
       "2                   1  \n",
       "3                   1  \n",
       "4                   0  "
      ]
     },
     "execution_count": 31,
     "metadata": {},
     "output_type": "execute_result"
    }
   ],
   "source": [
    "test[['shop_id','item_id']+['item_cnt_day_lag_'+str(x) for x in [1,2,3]]].head()"
   ]
  },
  {
   "cell_type": "code",
   "execution_count": 32,
   "metadata": {},
   "outputs": [
    {
     "name": "stdout",
     "output_type": "stream",
     "text": [
      "10849431   0.00\n",
      "Name: item_cnt_day, dtype: float16\n",
      "10605772   1.00\n",
      "Name: item_cnt_day, dtype: float16\n",
      "10396094   3.00\n",
      "Name: item_cnt_day, dtype: float16\n"
     ]
    }
   ],
   "source": [
    "print(train_m[train_m['shop_id'] == 5][train_m['item_id'] == 5037][train_m['date_block_num'] == 33]['item_cnt_day'])\n",
    "print(train_m[train_m['shop_id'] == 5][train_m['item_id'] == 5037][train_m['date_block_num'] == 32]['item_cnt_day'])\n",
    "print(train_m[train_m['shop_id'] == 5][train_m['item_id'] == 5037][train_m['date_block_num'] == 31]['item_cnt_day'])"
   ]
  },
  {
   "cell_type": "markdown",
   "metadata": {},
   "source": [
    "the lagged value for (5\t5037) actually correspond, looks like we dont have bugs!"
   ]
  },
  {
   "cell_type": "markdown",
   "metadata": {},
   "source": [
    "### Take the recent bit of data\n",
    "Data too far in the past are considered to be less relevant"
   ]
  },
  {
   "cell_type": "code",
   "execution_count": 33,
   "metadata": {},
   "outputs": [],
   "source": [
    "train_m = train_m[train_m['date_block_num']>12]"
   ]
  },
  {
   "cell_type": "markdown",
   "metadata": {},
   "source": [
    "### Split into train & validation\n",
    "Validation: The last month 'date_block_num'==33\n",
    "Train: Everything else"
   ]
  },
  {
   "cell_type": "code",
   "execution_count": 34,
   "metadata": {},
   "outputs": [],
   "source": [
    "train_set = train_m[train_m['date_block_num']<33]\n",
    "val_set = train_m[train_m['date_block_num']==33]"
   ]
  },
  {
   "cell_type": "code",
   "execution_count": 35,
   "metadata": {},
   "outputs": [
    {
     "name": "stdout",
     "output_type": "stream",
     "text": [
      "(5839576, 47)\n",
      "(238172, 47)\n",
      "(214200, 46)\n"
     ]
    }
   ],
   "source": [
    "print (train_set.shape)\n",
    "print (val_set.shape)\n",
    "print (test.shape)"
   ]
  },
  {
   "cell_type": "markdown",
   "metadata": {},
   "source": [
    "### Export the preprocessed data"
   ]
  },
  {
   "cell_type": "code",
   "execution_count": 36,
   "metadata": {},
   "outputs": [],
   "source": [
    "# Save data\n",
    "train_set.to_pickle('train.pkl')\n",
    "val_set.to_pickle('val.pkl')\n",
    "test.to_pickle('test.pkl')"
   ]
  },
  {
   "cell_type": "code",
   "execution_count": 37,
   "metadata": {},
   "outputs": [
    {
     "data": {
      "text/plain": [
       "21"
      ]
     },
     "execution_count": 37,
     "metadata": {},
     "output_type": "execute_result"
    }
   ],
   "source": [
    "del train_m\n",
    "gc.collect()"
   ]
  },
  {
   "cell_type": "markdown",
   "metadata": {},
   "source": [
    "### Modelling"
   ]
  },
  {
   "cell_type": "code",
   "execution_count": 38,
   "metadata": {},
   "outputs": [],
   "source": [
    "train_x = train_set.drop(['item_cnt_day'],axis=1)\n",
    "train_y = train_set['item_cnt_day']\n",
    "val_x = val_set.drop(['item_cnt_day'],axis=1)\n",
    "val_y = val_set['item_cnt_day']"
   ]
  },
  {
   "cell_type": "code",
   "execution_count": 39,
   "metadata": {},
   "outputs": [],
   "source": [
    "features = list(train_x.columns.values)"
   ]
  },
  {
   "cell_type": "code",
   "execution_count": 40,
   "metadata": {},
   "outputs": [
    {
     "name": "stdout",
     "output_type": "stream",
     "text": [
      "(5839576, 46)\n",
      "(5839576,)\n",
      "(238172, 46)\n",
      "(238172,)\n",
      "(214200, 46)\n"
     ]
    }
   ],
   "source": [
    "print (train_x.shape)\n",
    "print (train_y.shape)\n",
    "print (val_x.shape)\n",
    "print (val_y.shape)\n",
    "print (test.shape)"
   ]
  },
  {
   "cell_type": "code",
   "execution_count": 41,
   "metadata": {},
   "outputs": [
    {
     "data": {
      "text/plain": [
       "0"
      ]
     },
     "execution_count": 41,
     "metadata": {},
     "output_type": "execute_result"
    }
   ],
   "source": [
    "del train_set\n",
    "del val_set\n",
    "gc.collect()"
   ]
  },
  {
   "cell_type": "code",
   "execution_count": 42,
   "metadata": {},
   "outputs": [],
   "source": [
    "# For plotting feature importance\n",
    "def plot_feature_importances(importances,indices,features,title):\n",
    "    plt.figure(figsize=(9,16))\n",
    "    plt.title(title)\n",
    "    plt.barh(range(len(indices)), importances[indices], color='b', align='center')\n",
    "    plt.yticks(range(len(indices)), [features[i] for i in indices])\n",
    "    plt.xlabel('Relative Importance')\n",
    "    plt.show()   "
   ]
  },
  {
   "cell_type": "markdown",
   "metadata": {},
   "source": [
    "### Linear Regression"
   ]
  },
  {
   "cell_type": "code",
   "execution_count": 43,
   "metadata": {},
   "outputs": [],
   "source": [
    "from sklearn import datasets, linear_model\n",
    "from sklearn.metrics import mean_squared_error"
   ]
  },
  {
   "cell_type": "code",
   "execution_count": 44,
   "metadata": {},
   "outputs": [
    {
     "name": "stdout",
     "output_type": "stream",
     "text": [
      "Training time: 15.610323667526245\n"
     ]
    }
   ],
   "source": [
    "gc.collect()\n",
    "ts = time.time()\n",
    "# Training\n",
    "lr = linear_model.LinearRegression()\n",
    "lr.fit(train_x,train_y)\n",
    "print ('Training time: %s' %(time.time() - ts))"
   ]
  },
  {
   "cell_type": "markdown",
   "metadata": {},
   "source": [
    "### Predictions"
   ]
  },
  {
   "cell_type": "code",
   "execution_count": 45,
   "metadata": {},
   "outputs": [
    {
     "name": "stdout",
     "output_type": "stream",
     "text": [
      "Train RMSE: 1.150121\n",
      "Val RMSE: 1.168151\n"
     ]
    }
   ],
   "source": [
    "# Here we once again clip the output to 0~20\n",
    "train_pred1 = lr.predict(train_x).clip(0, 20)\n",
    "val_pred1 = lr.predict(val_x).clip(0, 20)\n",
    "test_pred1 = lr.predict(test).clip(0, 20)\n",
    "\n",
    "# Get rmse scores\n",
    "train_rmse = np.sqrt(mean_squared_error(train_y, train_pred1))\n",
    "print(\"Train RMSE: %f\" % (train_rmse))\n",
    "val_rmse = np.sqrt(mean_squared_error(val_y, val_pred1))\n",
    "print(\"Val RMSE: %f\" % (val_rmse))\n",
    "\n",
    "#sub_df1 = pd.DataFrame({'ID':test.index,'item_cnt_month': test_pred1})\n",
    "#sub_df1.to_csv('lr_submission.csv',index=False)\n",
    "\n",
    "# Save predictions for emsemble\n",
    "pickle.dump(train_pred1,open('lr_train.pickle','wb'))\n",
    "pickle.dump(val_pred1,open('lr_val.pickle','wb'))\n",
    "pickle.dump(test_pred1,open('lr_test.pickle','wb'))"
   ]
  },
  {
   "cell_type": "markdown",
   "metadata": {},
   "source": [
    "### xgboost"
   ]
  },
  {
   "cell_type": "code",
   "execution_count": 47,
   "metadata": {},
   "outputs": [],
   "source": [
    "import xgboost as xgb\n",
    "from xgboost import XGBRegressor\n",
    "from xgboost import plot_importance"
   ]
  },
  {
   "cell_type": "code",
   "execution_count": 48,
   "metadata": {},
   "outputs": [
    {
     "name": "stdout",
     "output_type": "stream",
     "text": [
      "[16:37:22] WARNING: /workspace/src/learner.cc:686: Tree method is automatically selected to be 'approx' for faster speed. To use old behavior (exact greedy algorithm on single machine), set tree_method to 'exact'.\n",
      "[16:38:32] INFO: /workspace/src/tree/updater_prune.cc:74: tree pruning end, 1 roots, 1602 extra nodes, 0 pruned nodes, max_depth=10\n",
      "[16:39:26] INFO: /workspace/src/tree/updater_prune.cc:74: tree pruning end, 1 roots, 1632 extra nodes, 0 pruned nodes, max_depth=10\n",
      "[16:40:22] INFO: /workspace/src/tree/updater_prune.cc:74: tree pruning end, 1 roots, 1646 extra nodes, 0 pruned nodes, max_depth=10\n",
      "[16:41:16] INFO: /workspace/src/tree/updater_prune.cc:74: tree pruning end, 1 roots, 1564 extra nodes, 0 pruned nodes, max_depth=10\n",
      "[16:42:11] INFO: /workspace/src/tree/updater_prune.cc:74: tree pruning end, 1 roots, 1648 extra nodes, 0 pruned nodes, max_depth=10\n",
      "[16:43:07] INFO: /workspace/src/tree/updater_prune.cc:74: tree pruning end, 1 roots, 1650 extra nodes, 0 pruned nodes, max_depth=10\n",
      "[16:44:03] INFO: /workspace/src/tree/updater_prune.cc:74: tree pruning end, 1 roots, 1608 extra nodes, 0 pruned nodes, max_depth=10\n",
      "[16:44:59] INFO: /workspace/src/tree/updater_prune.cc:74: tree pruning end, 1 roots, 1614 extra nodes, 0 pruned nodes, max_depth=10\n",
      "[16:45:54] INFO: /workspace/src/tree/updater_prune.cc:74: tree pruning end, 1 roots, 1584 extra nodes, 0 pruned nodes, max_depth=10\n",
      "[16:46:49] INFO: /workspace/src/tree/updater_prune.cc:74: tree pruning end, 1 roots, 1396 extra nodes, 0 pruned nodes, max_depth=10\n",
      "Training time: 577.4298374652863\n"
     ]
    }
   ],
   "source": [
    "gc.collect()\n",
    "ts = time.time()\n",
    "xgbtrain = xgb.DMatrix(train_x.values, train_y.values)\n",
    "\n",
    "param = {'max_depth':10, \n",
    "         'subsample':1,\n",
    "         'min_child_weight':0.5,\n",
    "         'eta':0.3, \n",
    "         'num_round':1000, \n",
    "         'seed':1,\n",
    "         'verbosity':2,\n",
    "         'eval_metric':'rmse'} # random parameters\n",
    "\n",
    "bst = xgb.train(param, xgbtrain)\n",
    "print ('Training time: %s' %(time.time() - ts))"
   ]
  },
  {
   "cell_type": "code",
   "execution_count": 49,
   "metadata": {},
   "outputs": [
    {
     "name": "stdout",
     "output_type": "stream",
     "text": [
      "Train RMSE: 0.903894\n",
      "Val RMSE: 1.069696\n"
     ]
    }
   ],
   "source": [
    "# Here we once again clip the output to 0~20\n",
    "train_pred2 = bst.predict(xgb.DMatrix(train_x.values)).clip(0, 20)\n",
    "val_pred2 = bst.predict(xgb.DMatrix(val_x.values)).clip(0, 20)\n",
    "test_pred2 = bst.predict(xgb.DMatrix(test.values)).clip(0, 20)\n",
    "\n",
    "# Get rmse scores\n",
    "train_rmse = np.sqrt(mean_squared_error(train_y, train_pred2))\n",
    "print(\"Train RMSE: %f\" % (train_rmse))\n",
    "val_rmse = np.sqrt(mean_squared_error(val_y, val_pred2))\n",
    "print(\"Val RMSE: %f\" % (val_rmse))\n",
    "\n",
    "#sub_df2 = pd.DataFrame({'ID':test.index,'item_cnt_month': test_pred2 })\n",
    "#sub_df2.to_csv('xgb_submission.csv',index=False)\n",
    "\n",
    "# Save predictions for emsemble\n",
    "pickle.dump(train_pred2,open('xgb_train.pickle','wb'))\n",
    "pickle.dump(val_pred2,open('xgb_val.pickle','wb'))\n",
    "pickle.dump(test_pred2,open('xgb_test.pickle','wb'))"
   ]
  },
  {
   "cell_type": "code",
   "execution_count": 50,
   "metadata": {},
   "outputs": [
    {
     "data": {
      "image/png": "[encoded data removed]",
      "text/plain": [
       "<Figure size 648x1152 with 1 Axes>"
      ]
     },
     "metadata": {
      "needs_background": "light"
     },
     "output_type": "display_data"
    }
   ],
   "source": [
    "# feature importance\n",
    "import operator\n",
    "importance = sorted(bst.get_score().items(), key=operator.itemgetter(1))\n",
    "importance_v = np.asarray([x[1] for x in importance],dtype=np.int16)\n",
    "indices = np.asarray([int(x[0].replace('f','')) for x in importance],dtype=np.int8)\n",
    "title = 'xgboost Feature Importances'\n",
    "\n",
    "plt.figure(figsize=(9,16))\n",
    "plt.title(title)\n",
    "plt.barh(range(len(indices)), importance_v, color='b', align='center')\n",
    "plt.yticks(range(len(indices)), [features[i] for i in indices])\n",
    "plt.xlabel('Relative Importance')\n",
    "plt.show()   "
   ]
  },
  {
   "cell_type": "markdown",
   "metadata": {},
   "source": [
    "### Random Forest"
   ]
  },
  {
   "cell_type": "code",
   "execution_count": 51,
   "metadata": {},
   "outputs": [],
   "source": [
    "from sklearn.ensemble import RandomForestRegressor"
   ]
  },
  {
   "cell_type": "code",
   "execution_count": 52,
   "metadata": {},
   "outputs": [
    {
     "name": "stderr",
     "output_type": "stream",
     "text": [
      "[Parallel(n_jobs=-1)]: Using backend ThreadingBackend with 4 concurrent workers.\n",
      "[Parallel(n_jobs=-1)]: Done  42 tasks      | elapsed:  6.5min\n",
      "[Parallel(n_jobs=-1)]: Done 100 out of 100 | elapsed: 14.9min finished\n"
     ]
    },
    {
     "name": "stdout",
     "output_type": "stream",
     "text": [
      "Training time: 896.9886200428009\n"
     ]
    }
   ],
   "source": [
    "gc.collect()\n",
    "ts = time.time()\n",
    "rf = RandomForestRegressor(\n",
    " bootstrap=True,\n",
    " max_depth=100,\n",
    " max_features= 3,\n",
    " min_samples_leaf=5,\n",
    " min_samples_split=12,\n",
    " n_estimators=100,\n",
    " random_state=42,\n",
    " verbose=1,\n",
    " n_jobs=-1\n",
    ")\n",
    "rf.fit(train_x.values,train_y.values)\n",
    "print ('Training time: %s' %(time.time() - ts))"
   ]
  },
  {
   "cell_type": "code",
   "execution_count": 53,
   "metadata": {},
   "outputs": [
    {
     "name": "stderr",
     "output_type": "stream",
     "text": [
      "[Parallel(n_jobs=4)]: Using backend ThreadingBackend with 4 concurrent workers.\n",
      "[Parallel(n_jobs=4)]: Done  42 tasks      | elapsed:   41.5s\n",
      "[Parallel(n_jobs=4)]: Done 100 out of 100 | elapsed:  1.6min finished\n",
      "[Parallel(n_jobs=4)]: Using backend ThreadingBackend with 4 concurrent workers.\n",
      "[Parallel(n_jobs=4)]: Done  42 tasks      | elapsed:    1.4s\n",
      "[Parallel(n_jobs=4)]: Done 100 out of 100 | elapsed:    3.4s finished\n",
      "[Parallel(n_jobs=4)]: Using backend ThreadingBackend with 4 concurrent workers.\n",
      "[Parallel(n_jobs=4)]: Done  42 tasks      | elapsed:    1.1s\n",
      "[Parallel(n_jobs=4)]: Done 100 out of 100 | elapsed:    2.6s finished\n"
     ]
    },
    {
     "name": "stdout",
     "output_type": "stream",
     "text": [
      "Train RMSE: 0.747731\n",
      "Val RMSE: 1.052844\n"
     ]
    }
   ],
   "source": [
    "# Here we once again clip the output to 0~20\n",
    "train_pred3 = rf.predict(train_x).clip(0, 20)\n",
    "val_pred3 = rf.predict(val_x).clip(0, 20)\n",
    "test_pred3 = rf.predict(test).clip(0, 20)\n",
    "\n",
    "# Get rmse scores\n",
    "train_rmse = np.sqrt(mean_squared_error(train_y, train_pred3))\n",
    "print(\"Train RMSE: %f\" % (train_rmse))\n",
    "val_rmse = np.sqrt(mean_squared_error(val_y, val_pred3))\n",
    "print(\"Val RMSE: %f\" % (val_rmse))\n",
    "\n",
    "#sub_df3 = pd.DataFrame({'ID':test.index,'item_cnt_month': test_pred3})\n",
    "#sub_df3.to_csv('rf_submission.csv',index=False)\n",
    "\n",
    "# Save predictions for emsemble\n",
    "pickle.dump(train_pred3,open('rf_train.pickle','wb'))\n",
    "pickle.dump(val_pred3,open('rf_val.pickle','wb'))\n",
    "pickle.dump(test_pred3,open('rf_test.pickle','wb'))"
   ]
  },
  {
   "cell_type": "code",
   "execution_count": 54,
   "metadata": {},
   "outputs": [
    {
     "data": {
      "image/png": "[encoded data removed]",
      "text/plain": [
       "<Figure size 648x1152 with 1 Axes>"
      ]
     },
     "metadata": {
      "needs_background": "light"
     },
     "output_type": "display_data"
    }
   ],
   "source": [
    "importances = rf.feature_importances_\n",
    "indices = np.argsort(importances)\n",
    "title = 'Random Forest Feature Importances'\n",
    "plot_feature_importances(importances,indices,features,title)"
   ]
  },
  {
   "cell_type": "markdown",
   "metadata": {},
   "source": [
    "## Stacking"
   ]
  },
  {
   "cell_type": "code",
   "execution_count": 55,
   "metadata": {},
   "outputs": [],
   "source": [
    "train_stack = pd.DataFrame({'lr':train_pred1,'xgboost':train_pred2,'rf':train_pred3})\n",
    "val_stack = pd.DataFrame({'lr':val_pred1,'xgboost':val_pred2,'rf':val_pred3})\n",
    "test_stack = pd.DataFrame({'lr':test_pred1,'xgboost':test_pred2,'rf':test_pred3})"
   ]
  },
  {
   "cell_type": "code",
   "execution_count": 56,
   "metadata": {},
   "outputs": [
    {
     "name": "stdout",
     "output_type": "stream",
     "text": [
      "Training time: 0.9946889877319336\n"
     ]
    }
   ],
   "source": [
    "gc.collect()\n",
    "ts = time.time()\n",
    "# Training\n",
    "stack_lr = linear_model.LinearRegression()\n",
    "stack_lr.fit(train_stack,train_y)\n",
    "print ('Training time: %s' %(time.time() - ts))"
   ]
  },
  {
   "cell_type": "markdown",
   "metadata": {},
   "source": [
    "### Predictions"
   ]
  },
  {
   "cell_type": "code",
   "execution_count": 57,
   "metadata": {},
   "outputs": [
    {
     "name": "stdout",
     "output_type": "stream",
     "text": [
      "Train RMSE: 0.666620\n",
      "Val RMSE: 1.085376\n"
     ]
    }
   ],
   "source": [
    "# Here we once again clip the output to 0~20\n",
    "train_pred4 = stack_lr.predict(train_stack).clip(0, 20)\n",
    "val_pred4 = stack_lr.predict(val_stack).clip(0, 20)\n",
    "test_pred4 = stack_lr.predict(test_stack).clip(0, 20)\n",
    "\n",
    "# Get rmse scores\n",
    "train_rmse = np.sqrt(mean_squared_error(train_y, train_pred4))\n",
    "print(\"Train RMSE: %f\" % (train_rmse))\n",
    "val_rmse = np.sqrt(mean_squared_error(val_y, val_pred4))\n",
    "print(\"Val RMSE: %f\" % (val_rmse))\n",
    "\n",
    "sub_df4 = pd.DataFrame({'ID':test.index,'item_cnt_month': test_pred4})\n",
    "sub_df4.to_csv('stack_submission.csv',index=False)\n",
    "\n",
    "# Save predictions for emsemble\n",
    "pickle.dump(train_pred4,open('stack_train.pickle','wb'))\n",
    "pickle.dump(val_pred4,open('stack_val.pickle','wb'))\n",
    "pickle.dump(test_pred4,open('stack_test.pickle','wb'))"
   ]
  }
 ],
 "metadata": {
  "kernelspec": {
   "display_name": "Python 3",
   "language": "python",
   "name": "python3"
  },
  "language_info": {
   "codemirror_mode": {
    "name": "ipython",
    "version": 3
   },
   "file_extension": ".py",
   "mimetype": "text/x-python",
   "name": "python",
   "nbconvert_exporter": "python",
   "pygments_lexer": "ipython3",
   "version": "3.8.5"
  }
 },
 "nbformat": 4,
 "nbformat_minor": 4
}
